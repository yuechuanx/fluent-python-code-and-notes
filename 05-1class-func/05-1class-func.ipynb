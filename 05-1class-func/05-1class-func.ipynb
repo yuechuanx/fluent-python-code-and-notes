{
 "cells": [
  {
   "cell_type": "markdown",
   "metadata": {},
   "source": [
    "# 一等函数\n",
    "\n",
    "> 不管别人怎么说或怎么想，我从未觉得 Python 受到来自函数式语言的太多影响。我非常熟悉命令式语言，如 C 和 Algol 68，虽然我把函数定为一等对象，但是我并不把 Python 当作函数式编程语言。  \n",
    "> —— Guido van Rossum: Python 仁慈的独裁者\n",
    "\n",
    "在 Python 中，函数是一等对象。  \n",
    "编程语言理论家把“一等对象”定义为满足下述条件的程序实体：\n",
    "* 在运行时创建\n",
    "* 能赋值给变量或数据结构中的元素\n",
    "* 能作为参数传给函数\n",
    "* 能作为函数的返回结果\n",
    "\n",
    "## 函数即为对象"
   ]
  },
  {
   "cell_type": "code",
   "execution_count": null,
   "metadata": {},
   "outputs": [],
   "source": [
    "def factorial(n):\n",
    "    \"\"\"returns n!\"\"\"\n",
    "    return 1 if n < 2 else n * factorial(n-1)\n",
    "\n",
    "factorial(42)\n",
    "factorial.__doc__\n",
    "type(factorial)"
   ]
  },
  {
   "cell_type": "markdown",
   "metadata": {},
   "source": [
    "通过 `type(factorial)` 可以看到 `function` 是一种类型，或者说，函数也是对象，可以通过`__doc__` 去访问它的属性。\n",
    "\n",
    "那么作为对象的函数，也能作为参数被传递。函数式风格编程也基于此"
   ]
  },
  {
   "cell_type": "code",
   "execution_count": null,
   "metadata": {},
   "outputs": [],
   "source": [
    "fact = factorial\n",
    "fact\n",
    "fact(5)\n",
    "map(factorial, range(11))\n",
    "list(map(fact, range(11)))"
   ]
  },
  {
   "cell_type": "markdown",
   "metadata": {},
   "source": [
    "## 高阶函数\n",
    "\n",
    "输入或者输出是函数的即为*高阶函数*(higher order function)。例如：`map`， `sorted`。"
   ]
  },
  {
   "cell_type": "code",
   "execution_count": null,
   "metadata": {},
   "outputs": [],
   "source": [
    "fruits = ['strawberry', 'fig', 'apple', 'cherry', 'raspberry', 'banana']\n",
    "# function len() as key\n",
    "sorted(fruits, key=len)"
   ]
  },
  {
   "cell_type": "markdown",
   "metadata": {},
   "source": [
    "## map、filter 和 reduce 的替代品\n",
    "\n",
    "函数式语言通常提供 `map`、`filter` 和 `reduce` 三个高阶函数。\n",
    "在 *Python* 中引入了列表推导和生成式表达式，可以替代它们且更容易阅读。"
   ]
  },
  {
   "cell_type": "code",
   "execution_count": null,
   "metadata": {},
   "outputs": [],
   "source": [
    "list(map(fact, range(6)))\n",
    "[fact(n) for n in range(6)]\n",
    "list(map(factorial, filter(lambda n : n % 2, range(6))))\n",
    "[factorial(n) for n in range(6) if n % 2]"
   ]
  },
  {
   "cell_type": "markdown",
   "metadata": {},
   "source": [
    "`map` 和 `filter` 返回生成器，可用生成器表达式替代\n",
    "`reduce` 常用求和，目前最好使用 `sum` 替代"
   ]
  },
  {
   "cell_type": "code",
   "execution_count": null,
   "metadata": {},
   "outputs": [],
   "source": [
    "from functools import reduce\n",
    "from operator import add\n",
    "\n",
    "reduce(add, range(100))\n",
    "sum(range(100))"
   ]
  },
  {
   "cell_type": "markdown",
   "metadata": {},
   "source": [
    "`sum` 和 `reduce` 把操作连续应用在序列元素上，得到返回值\n",
    "\n",
    "`all(iterable)`, `any(iterable)` 也是规约函数\n",
    "- `all(iterable)`: 每个元素为真，返回真\n",
    "- `any(iterable)`: 存在一个元素为真，返回真"
   ]
  },
  {
   "cell_type": "markdown",
   "metadata": {},
   "source": [
    "## 匿名函数\n",
    "\n",
    "*Python* 支持 *lambda* 表达式。 它是函数对象，在句法上被限制只能用存表达式。\n",
    "\n",
    "参数列表中最适合使用匿名函数。"
   ]
  },
  {
   "cell_type": "code",
   "execution_count": null,
   "metadata": {},
   "outputs": [],
   "source": [
    "# 根据单词末尾字符排序\n",
    "\n",
    "fruits = ['strawberry', 'fig', 'apple', 'cherry', 'raspberry', 'banana']\n",
    "sorted(fruits, key=lambda word: word[::-1])"
   ]
  },
  {
   "cell_type": "markdown",
   "metadata": {},
   "source": [
    "Python 的可调用对象\n",
    "\n",
    "* 用户定义的函数：使用 `def` 或 `lambda` 创建\n",
    "* 内置函数：如 `len` 或 `time.strfttime`\n",
    "* 内置方法：如 `dict.get`\n",
    "* 类：先调用 `__new__` 创建实例，再对实例运行 `__init__` 方法\n",
    "* 类的实例：如果类上定义了 `__call__` 方法，则实例可以作为函数调用\n",
    "* 生成器函数：使用 yield 关键字的函数或方法，调用生成器函数会返回生成器对象\n",
    "\n",
    "判断对象是否能调用，使用内置的 `callable()` 函数"
   ]
  },
  {
   "cell_type": "code",
   "execution_count": null,
   "metadata": {},
   "outputs": [],
   "source": [
    "abs, str, 13\n",
    "[callable(obj) for obj in (abs, str, 13)]"
   ]
  },
  {
   "cell_type": "markdown",
   "metadata": {},
   "source": [
    "## 用户定义的可调用类型\n",
    "\n",
    "任何 *Python* 对象都可以表现得像函数，只需实现实例方法 `__call__`"
   ]
  },
  {
   "cell_type": "code",
   "execution_count": null,
   "metadata": {},
   "outputs": [],
   "source": [
    "import random \n",
    "\n",
    "class BingoCage:\n",
    "    def __init__(self, items):\n",
    "        self._items = list(items)\n",
    "        random.shuffle(self._items)\n",
    "        \n",
    "    def pick(self):\n",
    "        try:\n",
    "            return self._items.pop()\n",
    "        except IndexError:\n",
    "            raise LookupError('pick from empty BingoCage')\n",
    "    \n",
    "    def __call__(self):\n",
    "        return self.pick()\n",
    "    \n",
    "bingo = BingoCage(range(3))\n",
    "bingo.pick()\n",
    "bingo()\n",
    "callable(bingo)"
   ]
  },
  {
   "cell_type": "markdown",
   "metadata": {},
   "source": [
    "实现 `__call__` 方法的类是创建函数类对象的简便方式。\n",
    "函数类对象有自己的状态，即为实例变量。装饰器函数也可以有."
   ]
  },
  {
   "cell_type": "markdown",
   "metadata": {},
   "source": [
    "## 函数内省\n",
    "\n",
    "内省（introspection）可以查看函数内部的细节，函数有许多属性。使用 dir 函数可以查看，或使用 __code__ 属性"
   ]
  },
  {
   "cell_type": "code",
   "execution_count": null,
   "metadata": {},
   "outputs": [],
   "source": [
    "dir(factorial)\n",
    "# factorial.__code__.co_varnames"
   ]
  },
  {
   "cell_type": "code",
   "execution_count": null,
   "metadata": {},
   "outputs": [],
   "source": [
    "# eg:5-9\n",
    "# 列出常规对象没有而函数有的属性\n",
    "\n",
    "class C: pass\n",
    "obj = C()\n",
    "def func(): pass\n",
    "sorted(set(dir(func)) - set(dir(obj)))"
   ]
  },
  {
   "cell_type": "markdown",
   "metadata": {},
   "source": [
    "函数属性说明 \n",
    "// 插入表格"
   ]
  },
  {
   "cell_type": "markdown",
   "metadata": {},
   "source": [
    "## 从定位参数到仅限关键字参数\n",
    "\n",
    "本节讨论 python 参数处理机制。py3 提供了仅限关键字参数（keyword-only argument）\n",
    "调用函数使用 * 和 ** 展开可迭代对象。\n",
    "\n",
    "- positional argument 位置参数\n",
    "- keyword-only argument 仅限关键字参数"
   ]
  },
  {
   "cell_type": "code",
   "execution_count": null,
   "metadata": {},
   "outputs": [],
   "source": [
    "def tag(name, *content, cls=None, **attrs):\n",
    "    \"\"\"生成一个或多个 HTML 标签\"\"\"\n",
    "    if cls is not None:\n",
    "        attrs['class'] = cls\n",
    "    if attrs:\n",
    "        attr_str = ''.join(' %s=\"%s\"' % (attr, value)\n",
    "                          for attr, value in sorted(attrs.items()))\n",
    "    else: \n",
    "        attr_str = ''\n",
    "    if content:\n",
    "        return '\\n'.join('<%s%s>%s</%s>' % (name, attr_str, c, name) for c in content)\n",
    "    else:\n",
    "        return '<%s%s />' % (name, attr_str)\n",
    "    \n",
    "tag('br')\n",
    "tag('p', 'hello')\n",
    "tag('p', 'hello', 'world') # 'hello', 'world' -> *content\n",
    "tag('p', 'hello', id=33)   # id=33 -> **attrs\n",
    "tag('p', 'hello', 'world', cls='sidebar')\n",
    "tag(content='testing', name=\"img\")\n",
    "my_tag = {\n",
    "    'name': 'img',\n",
    "    'title': 'Sunset Boulevard',\n",
    "    'src': 'sunset.jpg',\n",
    "    'cls': 'framed'\n",
    "}\n",
    "tag(**my_tag)"
   ]
  },
  {
   "cell_type": "markdown",
   "metadata": {},
   "source": [
    "`cls` 参数只能通过关键字指定，而不能通过位置参数指定。\n",
    "\n",
    "定义函数时若只想定仅限关键字参数，要把它放在带有 * 参数后面，如果不想支持数量不定的位置参数，但支持 keyowrd-only, 在函数签名中放一个 *"
   ]
  },
  {
   "cell_type": "code",
   "execution_count": null,
   "metadata": {},
   "outputs": [],
   "source": [
    "def f(a, *, b):\n",
    "    return a, b\n",
    "\n",
    "# f(1, 2)\n",
    "f(1, b=2) "
   ]
  },
  {
   "cell_type": "markdown",
   "metadata": {},
   "source": [
    "## 获取关于参数的信息\n",
    "\n",
    "上面提到，函数内省可以查看函数内部信息，通过 HTTP 微框架 Bobo 作为例子来看下"
   ]
  },
  {
   "cell_type": "code",
   "execution_count": null,
   "metadata": {},
   "outputs": [],
   "source": [
    "# eg: 5-12\n",
    "# hello.py\n",
    "import bobo\n",
    "\n",
    "@bobo.query('/')\n",
    "def hello(person):\n",
    "    return 'Hello %s!' % person\n",
    "\n",
    "# 在环境中执行 bobo -f hello.py, 若运行端口为 http://localhost:8080/\n",
    "# 没有传入参数\n",
    "# curl -i http://localhost:8080/\n",
    "# HTTP/1.0 403 Forbidden\n",
    "# Date: Wed, 22 Apr 2020 06:23:33 GMT\n",
    "# Server: WSGIServer/0.2 CPython/3.7.4\n",
    "# Content-Type: text/html; charset=UTF-8\n",
    "# Content-Length: 103\n",
    "\n",
    "# <html>\n",
    "# <head><title>Missing parameter</title></head>\n",
    "# <body>Missing form variable person</body>\n",
    "# </html>\n",
    "\n",
    "# 传入参数\n",
    "# curl -i http://localhost:8080/?person=Jim\n",
    "# HTTP/1.0 200 OK\n",
    "# Date: Wed, 22 Apr 2020 06:24:47 GMT\n",
    "# Server: WSGIServer/0.2 CPython/3.7.4\n",
    "# Content-Type: text/html; charset=UTF-8\n",
    "# Content-Length: 10\n",
    "\n",
    "# Hello Jim!% "
   ]
  },
  {
   "cell_type": "markdown",
   "metadata": {},
   "source": [
    "Bobo 如何知道函数需要哪个参数呢？\n",
    "\n",
    "函数对象有 `__defaults__` 属性，其值为一个元祖，保存着位置参数和关键字参数的默认值。\n",
    "\n",
    "keyword-only 参数默认值保存在 `__kwdefaults__` 属性中。\n",
    "\n",
    "参数的名称在 `__code__` 属性中，其值为 *code* 对象的引用。"
   ]
  },
  {
   "cell_type": "code",
   "execution_count": null,
   "metadata": {},
   "outputs": [],
   "source": [
    "def clip(text, max_len=80):\n",
    "    \"\"\"在 max_len 前后的第一个空格处截断文本\"\"\"\n",
    "    end = None\n",
    "    if (len(text)) > max_len:\n",
    "        space_before = text.rfind(' ', 0, max_len)\n",
    "        if space_before >= 0:\n",
    "            end = space_before\n",
    "        else:\n",
    "            space_after = text.rfind(' ', max_len)\n",
    "            if space_after >= 0:\n",
    "                end = space_after\n",
    "    if end is None:\n",
    "        end = len(text)\n",
    "        \n",
    "    return text[:end].rstrip()\n",
    "\n",
    "\n",
    "clip.__defaults__\n",
    "# clip.__code__\n",
    "# clip.__code__.co_varnames\n",
    "# clip.__code__.co_argcount"
   ]
  },
  {
   "cell_type": "markdown",
   "metadata": {},
   "source": [
    "函数签名信息，参数和默认值是分开的。可以使用 inspect 模块提取这些信息"
   ]
  },
  {
   "cell_type": "code",
   "execution_count": null,
   "metadata": {},
   "outputs": [],
   "source": [
    "from inspect import signature\n",
    "\n",
    "sig = signature(clip)\n",
    "sig\n",
    "str(sig)\n",
    "for name, param in sig.parameters.items():\n",
    "    print(param.kind, ':', name, '=', param.default)"
   ]
  },
  {
   "cell_type": "markdown",
   "metadata": {},
   "source": [
    "kind 属性值在 `_Parameterkind` 类中，列举如下：\n",
    "\n",
    "- POSTIONAL_OR_KEYWORD\n",
    "- VAR_POSITIONAL\n",
    "- VAR_KEYWORD\n",
    "- KEYWORD-ONLY\n",
    "- POSITIONAL_ONLY\n",
    "\n",
    "*inspect.Signature* 有 `bind` 方法，可以把任意个参数绑定在签名中的形参上。\n",
    "\n",
    "框架可以使用此方法在调用函数前验证参数"
   ]
  },
  {
   "cell_type": "code",
   "execution_count": null,
   "metadata": {},
   "outputs": [],
   "source": [
    "import inspect\n",
    "sig = inspect.signature(tag)\n",
    "my_tag = {\n",
    "    'name': 'img',\n",
    "    'title': 'Sunset Boulevard',\n",
    "    'src': 'sunset.jpg',\n",
    "    'cls': 'framed'}\n",
    "bound_args = sig.bind(**my_tag)\n",
    "bound_args\n",
    "\n",
    "del my_tag['name']\n",
    "# missing argument error\n",
    "bound_args = sig.bind(**my_tag)"
   ]
  },
  {
   "cell_type": "markdown",
   "metadata": {},
   "source": [
    "框架和 IDE 工具可以使用这些信息验证代码\n",
    "\n",
    "## 函数注解（annotation）\n",
    "\n",
    "各个参数可以在 : 后添加注解表达式。\n",
    "\n",
    "参数有默认值，注解放在参数名和 = 号之间，注解返回值在函数声明末尾添加 -> 和表达式\n",
    "\n",
    "注解不会做任何处理，只存储在函数 `__annotations__` 属性中。\n",
    "\n",
    "注解只是元数据，可以供 IDE，框架和装饰器等工具使用\n",
    "\n",
    "`inspect.signature()` 函数知道怎么提取注解"
   ]
  },
  {
   "cell_type": "code",
   "execution_count": null,
   "metadata": {},
   "outputs": [],
   "source": [
    "def clip(text: str, max_len: 'int > 0' = 80) -> str:\n",
    "    pass\n",
    "\n",
    "clip.__annotations__"
   ]
  },
  {
   "cell_type": "code",
   "execution_count": null,
   "metadata": {},
   "outputs": [],
   "source": [
    "from inspect import signature\n",
    "\n",
    "sig = signature(clip)\n",
    "sig.return_annotation\n",
    "\n",
    "for param in sig.parameters.values():\n",
    "    note = repr(param.annotation).ljust(13)\n",
    "    print(note, ':', param.name, '=', param.default)\n"
   ]
  },
  {
   "cell_type": "markdown",
   "metadata": {},
   "source": [
    "## 支持函数式编程的包\n",
    "\n",
    "### operator 模块\n",
    "\n",
    "`operator` 里有很多函数，对应着 Python 中的内置运算符，使用它们可以避免编写很多无趣的 `lambda` 函数，如：\n",
    "* `add`: `lambda a, b: a + b`\n",
    "* `or_`: `lambda a, b: a or b`\n",
    "* `itemgetter`: `lambda a, b: a[b]`\n",
    "* `attrgetter`: `lambda a, b: getattr(a, b)`"
   ]
  },
  {
   "cell_type": "code",
   "execution_count": null,
   "metadata": {},
   "outputs": [],
   "source": [
    "from functools import reduce\n",
    "from operator import mul\n",
    "\n",
    "def fact(n):\n",
    "    return reduce(lambda a, b: a*b, range(1, n+1))\n",
    "\n",
    "def fact(n):\n",
    "    return reduce(mul, range(1, n+1))"
   ]
  },
  {
   "cell_type": "markdown",
   "metadata": {},
   "source": [
    "还有一类函数，能替代从序列中取出或读取元素属性的 *lambda* 表达式。如 `itemgetter`，`attrgetter`"
   ]
  },
  {
   "cell_type": "code",
   "execution_count": null,
   "metadata": {},
   "outputs": [],
   "source": [
    "metro_data = [\n",
    "    ('Tokyo', 'JP', 36.933, (35.689722, 139.691667)),   # <1>\n",
    "    ('Delhi NCR', 'IN', 21.935, (28.613889, 77.208889)),\n",
    "    ('Mexico City', 'MX', 20.142, (19.433333, -99.133333)),\n",
    "    ('New York-Newark', 'US', 20.104, (40.808611, -74.020386)),\n",
    "    ('Sao Paulo', 'BR', 19.649, (-23.547778, -46.635833)),\n",
    "]\n",
    "\n",
    "from operator import itemgetter\n",
    "\n",
    "for city in sorted(metro_data, key=lambda fields: fields[1]):\n",
    "    print(city)\n",
    "\n",
    "for city in sorted(metro_data, key=itemgetter(1)):\n",
    "    print(city)\n",
    "\n",
    "# itemgetter 返回提取的值构成的元祖，可以用来提取指定字段或调整元祖顺序\n",
    "cc_name = itemgetter(1, 0)\n",
    "for city in metro_data:\n",
    "    print(cc_name(city))"
   ]
  },
  {
   "cell_type": "markdown",
   "metadata": {},
   "source": [
    "itemgetter 使用 `[]` 运算符，因为它不仅支持序列，还支持映射和任何实现 `__getitem__` 的类\n",
    "\n",
    "attrgetter 作用相似，它创建的函数根据名称提取对象的属性。包含 `.` 的，会进入到嵌套对象提取属性"
   ]
  },
  {
   "cell_type": "code",
   "execution_count": null,
   "metadata": {},
   "outputs": [],
   "source": [
    "from collections import namedtuple\n",
    "\n",
    "LatLong = namedtuple('Latlong', 'lat long')\n",
    "Metorpolis = namedtuple('Metorpolis', 'name cc pop coord')\n",
    "\n",
    "metro_areas = [Metorpolis(name, cc, pop, LatLong(lat, long)) \n",
    "              for name, cc, pop, (lat, long) in metro_data]\n",
    "\n",
    "metro_areas[0]\n",
    "metro_areas[0].coord.lat\n",
    "\n",
    "from operator import attrgetter\n",
    "name_lat = attrgetter('name', 'coord.lat')\n",
    "\n",
    "for city in sorted(metro_areas, key=attrgetter('coord.lat')):\n",
    "    print(name_lat(city))"
   ]
  },
  {
   "cell_type": "code",
   "execution_count": null,
   "metadata": {},
   "outputs": [],
   "source": [
    "import operator\n",
    "[name for name in dir(operator) if not name.startswith('_')]"
   ]
  },
  {
   "cell_type": "markdown",
   "metadata": {},
   "source": [
    "*operator* 模块的函数可以通过 `dir(operator)` 查看。\n",
    "\n",
    "介绍 methodcaller, 它的作用与前两个函数相似，它创建的函数会在对象调用参数指定的方法"
   ]
  },
  {
   "cell_type": "code",
   "execution_count": null,
   "metadata": {},
   "outputs": [],
   "source": [
    "from operator import methodcaller\n",
    "\n",
    "s = 'The time has come'\n",
    "upcase = methodcaller('upper')\n",
    "upcase(s)\n",
    "hiphenate = methodcaller('replace', ' ', '-')\n",
    "hiphenate(s)"
   ]
  },
  {
   "cell_type": "markdown",
   "metadata": {},
   "source": [
    "## 使用 functools.partial 冻结参数\n",
    "\n",
    "`functools` 最常用的函数有 `reduce`，之前已经介绍过。余下函数中最有用的是 `partial` 及其变体 `partialmethod`\n",
    "\n",
    "它的作用是：把原函数某些参数固定。\n",
    "\n",
    "`partial` 第一个函数是可调用对象，后面跟任意个位置参数和关键字参数"
   ]
  },
  {
   "cell_type": "code",
   "execution_count": null,
   "metadata": {},
   "outputs": [],
   "source": [
    "from operator import mul\n",
    "from functools import partial\n",
    "\n",
    "triple = partial(mul, 3)\n",
    "triple(7)\n",
    "\n",
    "list(map(triple, range(1, 10)))\n",
    "\n",
    "picture = partial(tag, 'img', cls='pic-frame')\n",
    "picture(src='wumpus.jepg')\n",
    "picture\n",
    "picture.func\n",
    "picture.args\n",
    "picture.keywords"
   ]
  },
  {
   "cell_type": "markdown",
   "metadata": {},
   "source": [
    "functoos.partialmethod 作用与 partial 一样，不过适用于处理方法的"
   ]
  },
  {
   "cell_type": "markdown",
   "metadata": {},
   "source": [
    "## 小结\n",
    "\n",
    "探讨 *Python* 函数的一等特性。意味着可以把函数赋值给变量，传入其他函数，存储于数据结构中，以及访问函数属性。\n",
    "\n",
    "高阶函数是函数式编程的重要组成。\n",
    "\n",
    "`Python` 的可调用对象: 7种\n",
    "\n",
    "函数及其注解有丰富的特性。可通过 `inspect` 模块读取\n",
    "\n",
    "最后介绍了 `operator` 模块中的一些函数，可以替换掉功能有限的 *lambda* 表达式。"
   ]
  }
 ],
 "metadata": {
  "kernelspec": {
   "display_name": "Python 3",
   "language": "python",
   "name": "python3"
  },
  "language_info": {
   "codemirror_mode": {
    "name": "ipython",
    "version": 3
   },
   "file_extension": ".py",
   "mimetype": "text/x-python",
   "name": "python",
   "nbconvert_exporter": "python",
   "pygments_lexer": "ipython3",
   "version": "3.7.4"
  }
 },
 "nbformat": 4,
 "nbformat_minor": 4
}
