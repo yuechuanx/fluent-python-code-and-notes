{
 "cells": [
  {
   "cell_type": "markdown",
   "metadata": {},
   "source": [
    "# 字典和集合\n",
    "\n",
    "> 字典这个数据结构活跃在所有 Python 程序的背后，即便你的源码里并没有直接用到它。  \n",
    "> ——A. M. Kuchling "
   ]
  },
  {
   "cell_type": "markdown",
   "metadata": {},
   "source": [
    "`dict` 是 Python 语言的基石。\n",
    "\n",
    "可散列对象需要实现 `__hash__` 和 `__eq__` 函数。  \n",
    "如果两个可散列对象是相等的，那么它们的散列值一定是一样的。\n",
    "\n",
    "## 范映射类型\n",
    "\n",
    "collections.abc 模块中有 Mapping 和 MutableMapping 两个抽象基类，起作用是为 dict 和其他类似的类型定义形式接口。\n",
    "\n",
    "//pic\n",
    "\n",
    "但非抽象映射类型一般不会直接继承这些抽象基类，而是直接对 dict 或 collections.User.Dict 进行扩展。\n",
    "\n",
    "这些抽象基类的主要作用是作为形式化的文档，以及跟 isinstance 一起被用来判定某个数据是否为广义上的映射类型。"
   ]
  },
  {
   "cell_type": "code",
   "execution_count": 3,
   "metadata": {},
   "outputs": [
    {
     "data": {
      "text/plain": [
       "True"
      ]
     },
     "execution_count": 3,
     "metadata": {},
     "output_type": "execute_result"
    }
   ],
   "source": [
    "my_dict = {}\n",
    "isinstance(my_dict, collections.abc.Mapping)"
   ]
  },
  {
   "cell_type": "markdown",
   "metadata": {},
   "source": [
    "> 用 instance 而不是用 type 是用来避免参数可能不是 dict 而是其他的映射类型\n",
    "\n",
    "标准库的所有映射类型都是利用 dict 实现。\n",
    "\n",
    "什么是可散列的数据类型？\n",
    "  \n",
    "  \n",
    "字典的提供了多种构造方法\n",
    "link"
   ]
  },
  {
   "cell_type": "code",
   "execution_count": 4,
   "metadata": {},
   "outputs": [
    {
     "data": {
      "text/plain": [
       "True"
      ]
     },
     "execution_count": 4,
     "metadata": {},
     "output_type": "execute_result"
    }
   ],
   "source": [
    "# 字典提供了很多种构造方法\n",
    "a = dict(one=1, two=2, three=3)\n",
    "b = {'one': 1, 'two': 2, 'three': 3} \n",
    "c = dict(zip(['one', 'two', 'three'], [1, 2, 3])) \n",
    "d = dict([('two', 2), ('one', 1), ('three', 3)]) \n",
    "e = dict({'three': 3, 'one': 1, 'two': 2})\n",
    "a == b == c == d == e"
   ]
  },
  {
   "cell_type": "markdown",
   "metadata": {},
   "source": [
    "## 字典推导\n",
    "\n",
    "字典推导（dictcomp）可以从任何以键值对为元素的可迭代对象构建出字典"
   ]
  },
  {
   "cell_type": "code",
   "execution_count": 5,
   "metadata": {},
   "outputs": [
    {
     "data": {
      "text/plain": [
       "{'China': 86, 'India': 91, 'United States': 1}"
      ]
     },
     "execution_count": 5,
     "metadata": {},
     "output_type": "execute_result"
    }
   ],
   "source": [
    "DIAL_CODES = [\n",
    "    (86, 'China'),\n",
    "    (91, 'India'),\n",
    "    (1, 'United States')\n",
    "]\n",
    "\n",
    "country_code = {country: code for code, country in DIAL_CODES}\n",
    "country_code"
   ]
  },
  {
   "cell_type": "markdown",
   "metadata": {},
   "source": [
    "## 常见的映射方法\n",
    "\n",
    "dict、defaultdict、OrderedDict 的常见方法，后两个数据类型是 dict 的变种，位于 collections 模块内。\n",
    "\n",
    "- setdefault 处理找不到的键\n",
    "\n",
    "    d[k] 无法找到正确的键时，会抛出异常。\n",
    "\n",
    "    用 d.get(k, default) 来代替 d[k], 可以对找不到的键设置默认返回值。"
   ]
  },
  {
   "cell_type": "code",
   "execution_count": null,
   "metadata": {},
   "outputs": [],
   "source": [
    "\"\"\"\n",
    "03-dict-set/index0.py\n",
    "创建一个从单词到其出现频率的映射\n",
    "\"\"\"\n",
    "\n",
    "import sys\n",
    "import re\n",
    "\n",
    "WORD_RE = re.compile(r'\\w+')\n",
    "\n",
    "index = {}\n",
    "with open(sys.argv[1], encoding='uft-8') as fp:\n",
    "    for line_no, line in enumerate(fp, 1):\n",
    "        for match in WORD_RE.finditer(line):\n",
    "            word = match.group()\n",
    "            column_no = match.start() + 1\n",
    "            location = (line_no, column_no)\n",
    "            # 提取单词出现情况，如果没有出现过返回 []\n",
    "            occurences = index.get(word, [])\n",
    "            occurences.append(location)\n",
    "            index[word] = occurences\n",
    "\n",
    "# 以字符顺序打印结果\n",
    "for word in sorted(index, key=str.upper):\n",
    "    print(word, index[word])"
   ]
  },
  {
   "cell_type": "markdown",
   "metadata": {},
   "source": [
    "```sh\n",
    "$ python index0.py zen.txt\n",
    "a [(19, 48), (20, 53)]\n",
    "Although [(11, 1), (16, 1), (18, 1)]\n",
    "ambiguity [(14, 16)]\n",
    "and [(15, 23)]\n",
    "are [(21, 12)]\n",
    "aren [(10, 15)]\n",
    "at [(16, 38)]\n",
    "bad [(19, 50)]\n",
    "be [(15, 14), (16, 27), (20, 50)]\n",
    "beats [(11, 23)]\n",
    "Beautiful [(3, 1)]\n",
    "better [(3, 14), (4, 13), (5, 11), (6, 12), (7, 9), (8, 11), (17, 8), (18, 25)]\n",
    "break [(10, 40)]\n",
    "by [(1, 20)]\n",
    "cases [(10, 9)]\n",
    "complex [(5, 23)]\n",
    "...\n",
    "\n",
    "```"
   ]
  },
  {
   "cell_type": "markdown",
   "metadata": {},
   "source": [
    "使用 dict.setdefault"
   ]
  },
  {
   "cell_type": "code",
   "execution_count": null,
   "metadata": {},
   "outputs": [],
   "source": [
    "\"\"\"\n",
    "03-dict-set/index.py\n",
    "创建一个从单词到其出现频率的映射\n",
    "\"\"\"\n",
    "\n",
    "import sys\n",
    "import re\n",
    "\n",
    "WORD_RE = re.compile(r'\\w+')\n",
    "\n",
    "index = {}\n",
    "with open(sys.argv[1], encoding='uft-8') as fp:\n",
    "    for line_no, line in enumerate(fp, 1):\n",
    "        for match in WORD_RE.finditer(line):\n",
    "            word = match.group()\n",
    "            column_no = match.start() + 1\n",
    "            location = (line_no, column_no)\n",
    "            # 注意这行与上面的区别\n",
    "            index.setdefault(word, []).append(location)\n",
    "            # 效果等同于：\n",
    "            # if key not in my_dict:\n",
    "            #    my_dict[key] = []\n",
    "            # my_dict[key].append(new_value)\n",
    "\n",
    "# 以字符顺序打印结果\n",
    "for word in sorted(index, key=str.upper):\n",
    "    print(word, index[word])"
   ]
  },
  {
   "cell_type": "markdown",
   "metadata": {},
   "source": [
    "## 映射的弹性键查询\n",
    "\n",
    "某个键不存在时，希望读取时能得到一个默认值，有两个方式：\n",
    "- 通过 defaultdict 类型\n",
    "- 自定义 dict 子类\n",
    "\n",
    "### defaultdict 处理找不到的键\n"
   ]
  },
  {
   "cell_type": "code",
   "execution_count": null,
   "metadata": {},
   "outputs": [],
   "source": [
    "\"\"\"\n",
    "03-dict-set/index_default.py\n",
    "创建一个从单词到其出现频率的映射\n",
    "\"\"\"\n",
    "\n",
    "import sys\n",
    "import re\n",
    "import collections\n",
    "\n",
    "WORD_RE = re.compile(r'\\w+')\n",
    "\n",
    "index = collections.defaultdict(list)     \n",
    "with open(sys.argv[1], encoding='utf-8') as fp:\n",
    "    for line_no, line in enumerate(fp, 1):\n",
    "        for match in WORD_RE.finditer(line):\n",
    "            word = match.group()\n",
    "            column_no = match.start()+1\n",
    "            location = (line_no, column_no)\n",
    "            # index 如何没有 word 的记录， default_factory 会被调用，这里是创建一个空列表返回\n",
    "            index[word].append(location)  \n",
    "\n",
    "# print in alphabetical order\n",
    "for word in sorted(index, key=str.upper):\n",
    "    print(word, index[word])\n"
   ]
  },
  {
   "cell_type": "markdown",
   "metadata": {},
   "source": [
    "defaultdict 里的 default_factory 只在 __getitem__ 里调用。\n",
    "实际上，上面的机制是通过特殊方法 __missing__ 支持的。\n",
    "\n",
    "### __missing__\n",
    "\n",
    "如果 dict 继承类提供了 __missing__ 方法，且 __getitem__ 遇到找不到键的情况是会自动调用它，而不是抛出异常\n"
   ]
  },
  {
   "cell_type": "code",
   "execution_count": 13,
   "metadata": {},
   "outputs": [
    {
     "name": "stdout",
     "output_type": "stream",
     "text": [
      "Two\n",
      "Four\n",
      "Two\n",
      "Four\n"
     ]
    },
    {
     "data": {
      "text/plain": [
       "'N/A'"
      ]
     },
     "execution_count": 13,
     "metadata": {},
     "output_type": "execute_result"
    }
   ],
   "source": [
    "class StrKeyDict0(dict):  # <1>\n",
    "\n",
    "    def __missing__(self, key):\n",
    "        if isinstance(key, str):  # <2>\n",
    "            raise KeyError(key)\n",
    "        return self[str(key)]  # <3>\n",
    "\n",
    "    def get(self, key, default=None):\n",
    "        try:\n",
    "            return self[key]  # <4>\n",
    "        except KeyError:\n",
    "            return default  # <5>\n",
    "\n",
    "    def __contains__(self, key):\n",
    "        return key in self.keys() or str(key) in self.keys()  # <6>\n",
    "\n",
    "d = StrKeyDict0([('2', 'Two'), ('4', 'Four')])\n",
    "print(d['2'])\n",
    "print(d['4'])\n",
    "# d[1] error\n",
    "\n",
    "print(d.get('2'))\n",
    "print(d.get('4'))\n",
    "print(d.get(1, 'N/A'))\n",
    "\n",
    "# defaultdcit & __missing__\n",
    "class mydefaultdict(dict):\n",
    "    def __init__(self, value, value_factory):\n",
    "        super().__init__(value)\n",
    "        self._value_factory = value_factory\n",
    "\n",
    "    def __missing__(self, key):\n",
    "        # 要避免循环调用\n",
    "        # return self[key]\n",
    "        self[key] = self._value_factory()\n",
    "        return self[key]\n",
    "\n",
    "d = mydefaultdict({1:1}, list)\n",
    "print(d[1])\n",
    "print(d[2])\n",
    "d[3].append(1)\n",
    "print(d)"
   ]
  },
  {
   "cell_type": "markdown",
   "metadata": {},
   "source": [
    "## 字典的变种\n",
    "\n",
    "> 此节总结了标准库 collections 模块中，除了 defaultdict 之外的不同映射类型\n",
    "\n",
    "- collections.OrderedDict\n",
    "\n",
    "- collections.ChainMap \n",
    "\n",
    "    容纳多个不同的映射对象，然后在进行键查找操作时会从前到后逐一查找，直到被找到为止\n",
    "\n",
    "- collections.Counter\n",
    "\n",
    "- collections.UserDict\n",
    "\n",
    "    dict 的纯 Python 实现，让用户集成写子类的\n"
   ]
  },
  {
   "cell_type": "code",
   "execution_count": null,
   "metadata": {},
   "outputs": [],
   "source": [
    "# UserDict\n",
    "# 定制化字典时，尽量继承 UserDict 而不是 dict\n",
    "from collections import UserDict\n",
    "\n",
    "class mydict(UserDict):\n",
    "    def __getitem__(self, key):\n",
    "        print('Getting key', key)\n",
    "        return super().__getitem__(key)\n",
    "\n",
    "d = mydict({1:1})\n",
    "print(d[1], d[2])"
   ]
  },
  {
   "cell_type": "code",
   "execution_count": null,
   "metadata": {},
   "outputs": [],
   "source": [
    "# MyppingProxyType 用于构建 Mapping 的只读实例\n",
    "from types import MappingProxyType\n",
    "\n",
    "d = {1: 1}\n",
    "d_proxy = MappingProxyType(d)\n",
    "print(d_proxy[1])\n",
    "try:\n",
    "    d_proxy[1] = 1\n",
    "except Exception as e:\n",
    "    print(repr(e))\n",
    "\n",
    "d[1] = 2\n",
    "print(d_proxy[1])"
   ]
  },
  {
   "cell_type": "code",
   "execution_count": null,
   "metadata": {},
   "outputs": [],
   "source": [
    "# set 的操作\n",
    "# 子集 & 真子集\n",
    "a, b = {1, 2}, {1, 2}\n",
    "print(a <= b, a < b)\n",
    "\n",
    "# discard\n",
    "a = {1, 2, 3}\n",
    "a.discard(3)\n",
    "print(a)\n",
    "\n",
    "# pop\n",
    "print(a.pop(), a.pop())\n",
    "try:\n",
    "    a.pop()\n",
    "except Exception as e:\n",
    "    print(repr(e))"
   ]
  },
  {
   "cell_type": "markdown",
   "metadata": {},
   "source": [
    "### 集合字面量\n",
    "除空集之外，集合的字面量——`{1}`、`{1, 2}`，等等——看起来跟它的数学形式一模一样。**如果是空集，那么必须写成 `set()` 的形式**，否则它会变成一个 `dict`.  \n",
    "跟 `list` 一样，字面量句法会比 `set` 构造方法要更快且更易读。"
   ]
  },
  {
   "cell_type": "markdown",
   "metadata": {},
   "source": [
    "### 集合和字典的实现\n",
    "集合和字典采用散列表来实现：\n",
    "1. 先计算 key 的 `hash`, 根据 hash 的某几位（取决于散列表的大小）找到元素后，将该元素与 key 进行比较\n",
    "2. 若两元素相等，则命中\n",
    "3. 若两元素不等，则发生散列冲突，使用线性探测再散列法进行下一次查询。\n",
    "\n",
    "这样导致的后果：\n",
    "1. 可散列对象必须支持 `hash` 函数；\n",
    "2. 必须支持 `__eq__` 判断相等性；\n",
    "3. 若 `a == b`, 则必须有 `hash(a) == hash(b)`。\n",
    "\n",
    "注：所有由用户自定义的对象都是可散列的，因为他们的散列值由 id() 来获取，而且它们都是不相等的。\n",
    "\n",
    "\n",
    "### 字典的空间开销\n",
    "由于字典使用散列表实现，所以字典的空间效率低下。使用 `tuple` 代替 `dict` 可以有效降低空间消费。  \n",
    "不过：内存太便宜了，不到万不得已也不要开始考虑这种优化方式，**因为优化往往是可维护性的对立面**。\n",
    "\n",
    "往字典中添加键时，如果有散列表扩张的情况发生，则已有键的顺序也会发生改变。所以，**不应该在迭代字典的过程各种对字典进行更改**。"
   ]
  },
  {
   "cell_type": "code",
   "execution_count": null,
   "metadata": {},
   "outputs": [],
   "source": [
    "# 字典中就键的顺序取决于添加顺序\n",
    "\n",
    "keys = [1, 2, 3]\n",
    "dict_ = {}\n",
    "for key in keys:\n",
    "    dict_[key] = None\n",
    "\n",
    "for key, dict_key in zip(keys, dict_):\n",
    "    print(key, dict_key)\n",
    "    assert key == dict_key\n",
    "\n",
    "# 字典中键的顺序不会影响字典比较"
   ]
  }
 ],
 "metadata": {
  "kernelspec": {
   "display_name": "Python 3",
   "language": "python",
   "name": "python3"
  },
  "language_info": {
   "codemirror_mode": {
    "name": "ipython",
    "version": 3
   },
   "file_extension": ".py",
   "mimetype": "text/x-python",
   "name": "python",
   "nbconvert_exporter": "python",
   "pygments_lexer": "ipython3",
   "version": "3.7.1"
  }
 },
 "nbformat": 4,
 "nbformat_minor": 2
}
